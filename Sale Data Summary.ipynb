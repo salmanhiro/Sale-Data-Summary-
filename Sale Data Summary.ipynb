{
 "cells": [
  {
   "cell_type": "markdown",
   "metadata": {},
   "source": [
    "# Data Summary"
   ]
  },
  {
   "cell_type": "markdown",
   "metadata": {},
   "source": [
    "This is the summary of sale data, generated in 1000 datas using 3rd party. \n",
    "The datas were in JSON format, consist of \"Barang\", \"Kategori\", \"harga\", \"alamat\", \"Timestamp\", \"kuantitas\", \"tanggal lahir\", \"total harga\".\n",
    "\n",
    "This part summarize:\n",
    "1. Category of Sales \n",
    "2. Favourite items (ranked)\n",
    "3. Mean sale per items\n",
    "4. Mean gross sale per items\n",
    "5. Largest gross sale per items (ranked)\n",
    "6. Customer target (age distribution of customers per item)\n",
    "7. Customer's city distribution (ranked)"
   ]
  },
  {
   "cell_type": "code",
   "execution_count": 16,
   "metadata": {},
   "outputs": [],
   "source": [
    "import flask\n",
    "import json\n",
    "from flask import request, jsonify\n",
    "import pandas as pd \n",
    "import io\n",
    "import matplotlib.pyplot as plt\n",
    "import numpy as np\n",
    "pd.set_option('display.float_format', lambda x: '%.3f' % x)"
   ]
  },
  {
   "cell_type": "code",
   "execution_count": 17,
   "metadata": {},
   "outputs": [],
   "source": [
    "#buat bikin endpoint pake flask, isinya json\n",
    "app = flask.Flask(__name__)\n",
    "app.config[\"DEBUG\"] = True\n",
    "\n",
    "url = 'http://127.0.0.1:5000/api/carsale.json' \n",
    "df=pd.read_json(url,orient='columns')\n",
    "df.to_csv(\"data.csv\")"
   ]
  },
  {
   "cell_type": "code",
   "execution_count": 18,
   "metadata": {},
   "outputs": [
    {
     "data": {
      "text/html": [
       "<div>\n",
       "<style scoped>\n",
       "    .dataframe tbody tr th:only-of-type {\n",
       "        vertical-align: middle;\n",
       "    }\n",
       "\n",
       "    .dataframe tbody tr th {\n",
       "        vertical-align: top;\n",
       "    }\n",
       "\n",
       "    .dataframe thead th {\n",
       "        text-align: right;\n",
       "    }\n",
       "</style>\n",
       "<table border=\"1\" class=\"dataframe\">\n",
       "  <thead>\n",
       "    <tr style=\"text-align: right;\">\n",
       "      <th></th>\n",
       "      <th></th>\n",
       "      <th>Barang</th>\n",
       "      <th>Column1</th>\n",
       "      <th>Kategori</th>\n",
       "      <th>Timestamp</th>\n",
       "      <th>alamat</th>\n",
       "      <th>harga</th>\n",
       "      <th>id</th>\n",
       "      <th>kota</th>\n",
       "      <th>kuantitas</th>\n",
       "      <th>tanggal lahir</th>\n",
       "      <th>total harga</th>\n",
       "    </tr>\n",
       "  </thead>\n",
       "  <tbody>\n",
       "    <tr>\n",
       "      <th>0</th>\n",
       "      <td>0</td>\n",
       "      <td>Allroad</td>\n",
       "      <td>215</td>\n",
       "      <td>Motor</td>\n",
       "      <td>2018-06-24</td>\n",
       "      <td>36351 Morning Trail</td>\n",
       "      <td>9420977.410</td>\n",
       "      <td>216</td>\n",
       "      <td>Zlehridge</td>\n",
       "      <td>6</td>\n",
       "      <td>3/7/1987</td>\n",
       "      <td>56525864.460</td>\n",
       "    </tr>\n",
       "    <tr>\n",
       "      <th>1</th>\n",
       "      <td>1</td>\n",
       "      <td>Allroad</td>\n",
       "      <td>246</td>\n",
       "      <td>Motor</td>\n",
       "      <td>2018-06-24</td>\n",
       "      <td>969 Quincy Park</td>\n",
       "      <td>9420977.410</td>\n",
       "      <td>247</td>\n",
       "      <td>Nouta</td>\n",
       "      <td>6</td>\n",
       "      <td>9/14/1997</td>\n",
       "      <td>56525864.460</td>\n",
       "    </tr>\n",
       "    <tr>\n",
       "      <th>2</th>\n",
       "      <td>2</td>\n",
       "      <td>Thunderbird</td>\n",
       "      <td>908</td>\n",
       "      <td>Pesawat</td>\n",
       "      <td>2018-06-24</td>\n",
       "      <td>75714 Kings Center</td>\n",
       "      <td>8374518.590</td>\n",
       "      <td>909</td>\n",
       "      <td>Yroikbury</td>\n",
       "      <td>1</td>\n",
       "      <td>8/15/1991</td>\n",
       "      <td>8374518.590</td>\n",
       "    </tr>\n",
       "    <tr>\n",
       "      <th>3</th>\n",
       "      <td>3</td>\n",
       "      <td>Tribeca</td>\n",
       "      <td>999</td>\n",
       "      <td>Pesawat</td>\n",
       "      <td>2018-06-24</td>\n",
       "      <td>203 Golf View Lane</td>\n",
       "      <td>1454086.140</td>\n",
       "      <td>1000</td>\n",
       "      <td>Gamery</td>\n",
       "      <td>6</td>\n",
       "      <td>4/13/1989</td>\n",
       "      <td>8724516.840</td>\n",
       "    </tr>\n",
       "    <tr>\n",
       "      <th>4</th>\n",
       "      <td>4</td>\n",
       "      <td>X5 M</td>\n",
       "      <td>143</td>\n",
       "      <td>Motor</td>\n",
       "      <td>2018-06-25</td>\n",
       "      <td>83186 Nancy Avenue</td>\n",
       "      <td>1492756.190</td>\n",
       "      <td>144</td>\n",
       "      <td>Xuodiff</td>\n",
       "      <td>6</td>\n",
       "      <td>7/30/1984</td>\n",
       "      <td>8956537.140</td>\n",
       "    </tr>\n",
       "    <tr>\n",
       "      <th>5</th>\n",
       "      <td>5</td>\n",
       "      <td>Accord</td>\n",
       "      <td>451</td>\n",
       "      <td>Mesin</td>\n",
       "      <td>2018-06-25</td>\n",
       "      <td>22313 Surrey Plaza</td>\n",
       "      <td>9128316.050</td>\n",
       "      <td>452</td>\n",
       "      <td>Sheles</td>\n",
       "      <td>5</td>\n",
       "      <td>9/27/1990</td>\n",
       "      <td>45641580.250</td>\n",
       "    </tr>\n",
       "    <tr>\n",
       "      <th>6</th>\n",
       "      <td>6</td>\n",
       "      <td>Thunderbird</td>\n",
       "      <td>965</td>\n",
       "      <td>Pesawat</td>\n",
       "      <td>2018-06-25</td>\n",
       "      <td>13 Erie Circle</td>\n",
       "      <td>8374518.590</td>\n",
       "      <td>966</td>\n",
       "      <td>Strale</td>\n",
       "      <td>9</td>\n",
       "      <td>12/13/1984</td>\n",
       "      <td>75370667.310</td>\n",
       "    </tr>\n",
       "    <tr>\n",
       "      <th>7</th>\n",
       "      <td>7</td>\n",
       "      <td>Omni</td>\n",
       "      <td>87</td>\n",
       "      <td>Mobil</td>\n",
       "      <td>2018-06-27</td>\n",
       "      <td>4 Kennedy Drive</td>\n",
       "      <td>6902335.510</td>\n",
       "      <td>88</td>\n",
       "      <td>Zlehridge</td>\n",
       "      <td>8</td>\n",
       "      <td>6/26/1996</td>\n",
       "      <td>55218684.080</td>\n",
       "    </tr>\n",
       "    <tr>\n",
       "      <th>8</th>\n",
       "      <td>8</td>\n",
       "      <td>Accord</td>\n",
       "      <td>520</td>\n",
       "      <td>Mesin</td>\n",
       "      <td>2018-06-27</td>\n",
       "      <td>76126 Butterfield Place</td>\n",
       "      <td>9128316.050</td>\n",
       "      <td>521</td>\n",
       "      <td>Nouta</td>\n",
       "      <td>9</td>\n",
       "      <td>10/23/1981</td>\n",
       "      <td>82154844.450</td>\n",
       "    </tr>\n",
       "    <tr>\n",
       "      <th>9</th>\n",
       "      <td>9</td>\n",
       "      <td>Thunderbird</td>\n",
       "      <td>925</td>\n",
       "      <td>Pesawat</td>\n",
       "      <td>2018-06-27</td>\n",
       "      <td>6 Melby Pass</td>\n",
       "      <td>8374518.590</td>\n",
       "      <td>926</td>\n",
       "      <td>Zlehridge</td>\n",
       "      <td>6</td>\n",
       "      <td>8/3/1987</td>\n",
       "      <td>50247111.540</td>\n",
       "    </tr>\n",
       "  </tbody>\n",
       "</table>\n",
       "</div>"
      ],
      "text/plain": [
       "           Barang  Column1 Kategori  Timestamp                   alamat  \\\n",
       "0  0      Allroad      215    Motor 2018-06-24      36351 Morning Trail   \n",
       "1  1      Allroad      246    Motor 2018-06-24          969 Quincy Park   \n",
       "2  2  Thunderbird      908  Pesawat 2018-06-24       75714 Kings Center   \n",
       "3  3      Tribeca      999  Pesawat 2018-06-24       203 Golf View Lane   \n",
       "4  4         X5 M      143    Motor 2018-06-25       83186 Nancy Avenue   \n",
       "5  5       Accord      451    Mesin 2018-06-25       22313 Surrey Plaza   \n",
       "6  6  Thunderbird      965  Pesawat 2018-06-25           13 Erie Circle   \n",
       "7  7         Omni       87    Mobil 2018-06-27          4 Kennedy Drive   \n",
       "8  8       Accord      520    Mesin 2018-06-27  76126 Butterfield Place   \n",
       "9  9  Thunderbird      925  Pesawat 2018-06-27             6 Melby Pass   \n",
       "\n",
       "        harga    id       kota  kuantitas tanggal lahir  total harga  \n",
       "0 9420977.410   216  Zlehridge          6      3/7/1987 56525864.460  \n",
       "1 9420977.410   247      Nouta          6     9/14/1997 56525864.460  \n",
       "2 8374518.590   909  Yroikbury          1     8/15/1991  8374518.590  \n",
       "3 1454086.140  1000     Gamery          6     4/13/1989  8724516.840  \n",
       "4 1492756.190   144    Xuodiff          6     7/30/1984  8956537.140  \n",
       "5 9128316.050   452     Sheles          5     9/27/1990 45641580.250  \n",
       "6 8374518.590   966     Strale          9    12/13/1984 75370667.310  \n",
       "7 6902335.510    88  Zlehridge          8     6/26/1996 55218684.080  \n",
       "8 9128316.050   521      Nouta          9    10/23/1981 82154844.450  \n",
       "9 8374518.590   926  Zlehridge          6      8/3/1987 50247111.540  "
      ]
     },
     "execution_count": 18,
     "metadata": {},
     "output_type": "execute_result"
    }
   ],
   "source": [
    "# Create some test data for our catalog in the form of a list of dictionaries.\n",
    "#with open('http://127.0.0.1:5000/api/v1/resources/books/all', 'r') as f:\n",
    "#    data = json.load(f)\n",
    "\n",
    "#summary 10 data pertama, tes\n",
    "df.head(10)"
   ]
  },
  {
   "cell_type": "code",
   "execution_count": 19,
   "metadata": {},
   "outputs": [
    {
     "data": {
      "text/plain": [
       "Index(['', 'Barang', 'Column1', 'Kategori', 'Timestamp', 'alamat', 'harga',\n",
       "       'id', 'kota', 'kuantitas', 'tanggal lahir', 'total harga'],\n",
       "      dtype='object')"
      ]
     },
     "execution_count": 19,
     "metadata": {},
     "output_type": "execute_result"
    }
   ],
   "source": [
    "df.describe()\n",
    "df.columns"
   ]
  },
  {
   "cell_type": "code",
   "execution_count": 20,
   "metadata": {},
   "outputs": [],
   "source": [
    "kategori = df['Kategori'].astype('category')\n",
    "count_kategori = kategori.value_counts()\n"
   ]
  },
  {
   "cell_type": "code",
   "execution_count": 21,
   "metadata": {},
   "outputs": [],
   "source": [
    "count_kategori = kategori.value_counts()\n",
    "#count_kategori.plot(kind='hist', x = df[\"Kategori\"], y = count_kategori)"
   ]
  },
  {
   "cell_type": "code",
   "execution_count": 22,
   "metadata": {},
   "outputs": [
    {
     "data": {
      "text/plain": [
       "<matplotlib.legend.Legend at 0x7ff08fa842e8>"
      ]
     },
     "execution_count": 22,
     "metadata": {},
     "output_type": "execute_result"
    },
    {
     "data": {
      "image/png": "[encoded data removed]",
      "text/plain": [
       "<Figure size 432x288 with 1 Axes>"
      ]
     },
     "metadata": {},
     "output_type": "display_data"
    }
   ],
   "source": [
    "kategori.value_counts().plot(kind=\"pie\")\n",
    "plt.title('Jumlah berdasarkan kategori')\n",
    "plt.legend(labels =kategori.value_counts(),loc='upper left')"
   ]
  },
  {
   "cell_type": "code",
   "execution_count": 23,
   "metadata": {},
   "outputs": [],
   "source": [
    "barang = df[\"Barang\"]\n",
    "count_barang = barang.value_counts()"
   ]
  },
  {
   "cell_type": "code",
   "execution_count": 24,
   "metadata": {
    "scrolled": true
   },
   "outputs": [
    {
     "name": "stdout",
     "output_type": "stream",
     "text": [
      "Barang favorit\n",
      "\n",
      "Thunderbird    246\n",
      "Aerostar       184\n",
      "Accord         125\n",
      "G8a             93\n",
      "Titan           64\n",
      "SLR McLaren     44\n",
      "Allroad         41\n",
      "X5 M            40\n",
      "Rodeo           34\n",
      "Omni            33\n",
      "Tribeca         23\n",
      "Aries           19\n",
      "Caravan         17\n",
      "Mark LT         15\n",
      "Corolla         13\n",
      "Fiesta           9\n",
      "Name: Barang, dtype: int64\n"
     ]
    }
   ],
   "source": [
    "#Barang favorit\n",
    "print(\"Barang favorit\\n\")\n",
    "print(count_barang)\n"
   ]
  },
  {
   "cell_type": "code",
   "execution_count": 25,
   "metadata": {},
   "outputs": [
    {
     "data": {
      "text/plain": [
       "<matplotlib.legend.Legend at 0x7ff08f25bc50>"
      ]
     },
     "execution_count": 25,
     "metadata": {},
     "output_type": "execute_result"
    },
    {
     "data": {
      "image/png": "[encoded data removed]",
      "text/plain": [
       "<Figure size 432x288 with 1 Axes>"
      ]
     },
     "metadata": {
      "needs_background": "light"
     },
     "output_type": "display_data"
    }
   ],
   "source": [
    "df.groupby([\"Kategori\",\"Barang\"]).size().unstack().plot(kind=\"bar\",stacked = True)\n",
    "plt.title(\"Jumlah penjualan barang\")\n",
    "plt.legend(loc=\"upper center\",bbox_to_anchor=(1.2, 1))"
   ]
  },
  {
   "cell_type": "code",
   "execution_count": 26,
   "metadata": {},
   "outputs": [],
   "source": [
    "x = df[\"Barang\"]\n",
    "y = df[\"total harga\"]"
   ]
  },
  {
   "cell_type": "code",
   "execution_count": 27,
   "metadata": {},
   "outputs": [
    {
     "name": "stdout",
     "output_type": "stream",
     "text": [
      "deskripsi kolom barang\n"
     ]
    },
    {
     "data": {
      "text/plain": [
       "count            1000\n",
       "unique             16\n",
       "top       Thunderbird\n",
       "freq              246\n",
       "Name: Barang, dtype: object"
      ]
     },
     "execution_count": 27,
     "metadata": {},
     "output_type": "execute_result"
    }
   ],
   "source": [
    "print('deskripsi kolom barang')\n",
    "x.describe()"
   ]
  },
  {
   "cell_type": "code",
   "execution_count": 28,
   "metadata": {},
   "outputs": [
    {
     "name": "stdout",
     "output_type": "stream",
     "text": [
      "deskripsi kolom total harga\n"
     ]
    },
    {
     "data": {
      "text/plain": [
       "count       1000.000\n",
       "mean    33077490.074\n",
       "std     24009920.396\n",
       "min      1365370.480\n",
       "25%      9128441.050\n",
       "50%     27927431.585\n",
       "75%     53293367.790\n",
       "max     84788796.690\n",
       "Name: total harga, dtype: float64"
      ]
     },
     "execution_count": 28,
     "metadata": {},
     "output_type": "execute_result"
    }
   ],
   "source": [
    "print('deskripsi kolom total harga')\n",
    "y.describe()"
   ]
  },
  {
   "cell_type": "code",
   "execution_count": 29,
   "metadata": {},
   "outputs": [
    {
     "data": {
      "text/html": [
       "<div>\n",
       "<style scoped>\n",
       "    .dataframe tbody tr th:only-of-type {\n",
       "        vertical-align: middle;\n",
       "    }\n",
       "\n",
       "    .dataframe tbody tr th {\n",
       "        vertical-align: top;\n",
       "    }\n",
       "\n",
       "    .dataframe thead th {\n",
       "        text-align: right;\n",
       "    }\n",
       "</style>\n",
       "<table border=\"1\" class=\"dataframe\">\n",
       "  <thead>\n",
       "    <tr style=\"text-align: right;\">\n",
       "      <th></th>\n",
       "      <th>kuantitas</th>\n",
       "    </tr>\n",
       "    <tr>\n",
       "      <th>Barang</th>\n",
       "      <th></th>\n",
       "    </tr>\n",
       "  </thead>\n",
       "  <tbody>\n",
       "    <tr>\n",
       "      <th>Accord</th>\n",
       "      <td>4.520</td>\n",
       "    </tr>\n",
       "    <tr>\n",
       "      <th>Aerostar</th>\n",
       "      <td>4.310</td>\n",
       "    </tr>\n",
       "    <tr>\n",
       "      <th>Allroad</th>\n",
       "      <td>4.976</td>\n",
       "    </tr>\n",
       "    <tr>\n",
       "      <th>Aries</th>\n",
       "      <td>4.000</td>\n",
       "    </tr>\n",
       "    <tr>\n",
       "      <th>Caravan</th>\n",
       "      <td>4.588</td>\n",
       "    </tr>\n",
       "    <tr>\n",
       "      <th>Corolla</th>\n",
       "      <td>4.538</td>\n",
       "    </tr>\n",
       "    <tr>\n",
       "      <th>Fiesta</th>\n",
       "      <td>5.778</td>\n",
       "    </tr>\n",
       "    <tr>\n",
       "      <th>G8a</th>\n",
       "      <td>4.849</td>\n",
       "    </tr>\n",
       "    <tr>\n",
       "      <th>Mark LT</th>\n",
       "      <td>3.933</td>\n",
       "    </tr>\n",
       "    <tr>\n",
       "      <th>Omni</th>\n",
       "      <td>5.545</td>\n",
       "    </tr>\n",
       "    <tr>\n",
       "      <th>Rodeo</th>\n",
       "      <td>4.529</td>\n",
       "    </tr>\n",
       "    <tr>\n",
       "      <th>SLR McLaren</th>\n",
       "      <td>4.318</td>\n",
       "    </tr>\n",
       "    <tr>\n",
       "      <th>Thunderbird</th>\n",
       "      <td>4.699</td>\n",
       "    </tr>\n",
       "    <tr>\n",
       "      <th>Titan</th>\n",
       "      <td>5.078</td>\n",
       "    </tr>\n",
       "    <tr>\n",
       "      <th>Tribeca</th>\n",
       "      <td>5.261</td>\n",
       "    </tr>\n",
       "    <tr>\n",
       "      <th>X5 M</th>\n",
       "      <td>4.475</td>\n",
       "    </tr>\n",
       "  </tbody>\n",
       "</table>\n",
       "</div>"
      ],
      "text/plain": [
       "             kuantitas\n",
       "Barang                \n",
       "Accord           4.520\n",
       "Aerostar         4.310\n",
       "Allroad          4.976\n",
       "Aries            4.000\n",
       "Caravan          4.588\n",
       "Corolla          4.538\n",
       "Fiesta           5.778\n",
       "G8a              4.849\n",
       "Mark LT          3.933\n",
       "Omni             5.545\n",
       "Rodeo            4.529\n",
       "SLR McLaren      4.318\n",
       "Thunderbird      4.699\n",
       "Titan            5.078\n",
       "Tribeca          5.261\n",
       "X5 M             4.475"
      ]
     },
     "execution_count": 29,
     "metadata": {},
     "output_type": "execute_result"
    }
   ],
   "source": [
    "#rata-rata pembelian\n",
    "\n",
    "df.groupby('Barang').mean()[['kuantitas']]"
   ]
  },
  {
   "cell_type": "code",
   "execution_count": 30,
   "metadata": {},
   "outputs": [
    {
     "name": "stdout",
     "output_type": "stream",
     "text": [
      "Laba kotor rata-rata\n"
     ]
    },
    {
     "data": {
      "text/html": [
       "<div>\n",
       "<style scoped>\n",
       "    .dataframe tbody tr th:only-of-type {\n",
       "        vertical-align: middle;\n",
       "    }\n",
       "\n",
       "    .dataframe tbody tr th {\n",
       "        vertical-align: top;\n",
       "    }\n",
       "\n",
       "    .dataframe thead th {\n",
       "        text-align: right;\n",
       "    }\n",
       "</style>\n",
       "<table border=\"1\" class=\"dataframe\">\n",
       "  <thead>\n",
       "    <tr style=\"text-align: right;\">\n",
       "      <th></th>\n",
       "      <th>Barang</th>\n",
       "      <th>total harga</th>\n",
       "    </tr>\n",
       "  </thead>\n",
       "  <tbody>\n",
       "    <tr>\n",
       "      <th>0</th>\n",
       "      <td>Accord</td>\n",
       "      <td>41259988.546</td>\n",
       "    </tr>\n",
       "    <tr>\n",
       "      <th>1</th>\n",
       "      <td>Aerostar</td>\n",
       "      <td>39341596.482</td>\n",
       "    </tr>\n",
       "    <tr>\n",
       "      <th>2</th>\n",
       "      <td>Allroad</td>\n",
       "      <td>46875107.113</td>\n",
       "    </tr>\n",
       "    <tr>\n",
       "      <th>3</th>\n",
       "      <td>Aries</td>\n",
       "      <td>24494730.200</td>\n",
       "    </tr>\n",
       "    <tr>\n",
       "      <th>4</th>\n",
       "      <td>Caravan</td>\n",
       "      <td>28096896.406</td>\n",
       "    </tr>\n",
       "    <tr>\n",
       "      <th>5</th>\n",
       "      <td>Corolla</td>\n",
       "      <td>42730403.761</td>\n",
       "    </tr>\n",
       "    <tr>\n",
       "      <th>6</th>\n",
       "      <td>Fiesta</td>\n",
       "      <td>17506697.867</td>\n",
       "    </tr>\n",
       "    <tr>\n",
       "      <th>7</th>\n",
       "      <td>G8a</td>\n",
       "      <td>6621312.758</td>\n",
       "    </tr>\n",
       "    <tr>\n",
       "      <th>8</th>\n",
       "      <td>Mark LT</td>\n",
       "      <td>25808845.737</td>\n",
       "    </tr>\n",
       "    <tr>\n",
       "      <th>9</th>\n",
       "      <td>Omni</td>\n",
       "      <td>38276587.828</td>\n",
       "    </tr>\n",
       "    <tr>\n",
       "      <th>10</th>\n",
       "      <td>Rodeo</td>\n",
       "      <td>35142920.029</td>\n",
       "    </tr>\n",
       "    <tr>\n",
       "      <th>11</th>\n",
       "      <td>SLR McLaren</td>\n",
       "      <td>25570050.202</td>\n",
       "    </tr>\n",
       "    <tr>\n",
       "      <th>12</th>\n",
       "      <td>Thunderbird</td>\n",
       "      <td>39353428.821</td>\n",
       "    </tr>\n",
       "    <tr>\n",
       "      <th>13</th>\n",
       "      <td>Titan</td>\n",
       "      <td>37391887.305</td>\n",
       "    </tr>\n",
       "    <tr>\n",
       "      <th>14</th>\n",
       "      <td>Tribeca</td>\n",
       "      <td>7649757.519</td>\n",
       "    </tr>\n",
       "    <tr>\n",
       "      <th>15</th>\n",
       "      <td>X5 M</td>\n",
       "      <td>6680083.950</td>\n",
       "    </tr>\n",
       "  </tbody>\n",
       "</table>\n",
       "</div>"
      ],
      "text/plain": [
       "         Barang  total harga\n",
       "0        Accord 41259988.546\n",
       "1      Aerostar 39341596.482\n",
       "2       Allroad 46875107.113\n",
       "3         Aries 24494730.200\n",
       "4       Caravan 28096896.406\n",
       "5       Corolla 42730403.761\n",
       "6        Fiesta 17506697.867\n",
       "7           G8a  6621312.758\n",
       "8       Mark LT 25808845.737\n",
       "9          Omni 38276587.828\n",
       "10        Rodeo 35142920.029\n",
       "11  SLR McLaren 25570050.202\n",
       "12  Thunderbird 39353428.821\n",
       "13        Titan 37391887.305\n",
       "14      Tribeca  7649757.519\n",
       "15         X5 M  6680083.950"
      ]
     },
     "execution_count": 30,
     "metadata": {},
     "output_type": "execute_result"
    }
   ],
   "source": [
    "#rata-rata laba kotor\n",
    "print('Laba kotor rata-rata')\n",
    "df.groupby('Barang', as_index=False)['total harga'].mean()\n"
   ]
  },
  {
   "cell_type": "code",
   "execution_count": 31,
   "metadata": {},
   "outputs": [
    {
     "name": "stdout",
     "output_type": "stream",
     "text": [
      "Laba Kotor (descending)\n"
     ]
    },
    {
     "data": {
      "text/html": [
       "<div>\n",
       "<style scoped>\n",
       "    .dataframe tbody tr th:only-of-type {\n",
       "        vertical-align: middle;\n",
       "    }\n",
       "\n",
       "    .dataframe tbody tr th {\n",
       "        vertical-align: top;\n",
       "    }\n",
       "\n",
       "    .dataframe thead th {\n",
       "        text-align: right;\n",
       "    }\n",
       "</style>\n",
       "<table border=\"1\" class=\"dataframe\">\n",
       "  <thead>\n",
       "    <tr style=\"text-align: right;\">\n",
       "      <th></th>\n",
       "      <th>Barang</th>\n",
       "      <th>total harga</th>\n",
       "    </tr>\n",
       "  </thead>\n",
       "  <tbody>\n",
       "    <tr>\n",
       "      <th>12</th>\n",
       "      <td>Thunderbird</td>\n",
       "      <td>9680943490.040</td>\n",
       "    </tr>\n",
       "    <tr>\n",
       "      <th>1</th>\n",
       "      <td>Aerostar</td>\n",
       "      <td>7238853752.650</td>\n",
       "    </tr>\n",
       "    <tr>\n",
       "      <th>0</th>\n",
       "      <td>Accord</td>\n",
       "      <td>5157498568.250</td>\n",
       "    </tr>\n",
       "    <tr>\n",
       "      <th>13</th>\n",
       "      <td>Titan</td>\n",
       "      <td>2393080787.500</td>\n",
       "    </tr>\n",
       "    <tr>\n",
       "      <th>2</th>\n",
       "      <td>Allroad</td>\n",
       "      <td>1921879391.640</td>\n",
       "    </tr>\n",
       "    <tr>\n",
       "      <th>9</th>\n",
       "      <td>Omni</td>\n",
       "      <td>1263127398.330</td>\n",
       "    </tr>\n",
       "    <tr>\n",
       "      <th>10</th>\n",
       "      <td>Rodeo</td>\n",
       "      <td>1194859281.000</td>\n",
       "    </tr>\n",
       "    <tr>\n",
       "      <th>11</th>\n",
       "      <td>SLR McLaren</td>\n",
       "      <td>1125082208.900</td>\n",
       "    </tr>\n",
       "    <tr>\n",
       "      <th>7</th>\n",
       "      <td>G8a</td>\n",
       "      <td>615782086.480</td>\n",
       "    </tr>\n",
       "    <tr>\n",
       "      <th>5</th>\n",
       "      <td>Corolla</td>\n",
       "      <td>555495248.890</td>\n",
       "    </tr>\n",
       "    <tr>\n",
       "      <th>4</th>\n",
       "      <td>Caravan</td>\n",
       "      <td>477647238.900</td>\n",
       "    </tr>\n",
       "    <tr>\n",
       "      <th>3</th>\n",
       "      <td>Aries</td>\n",
       "      <td>465399873.800</td>\n",
       "    </tr>\n",
       "    <tr>\n",
       "      <th>8</th>\n",
       "      <td>Mark LT</td>\n",
       "      <td>387132686.050</td>\n",
       "    </tr>\n",
       "    <tr>\n",
       "      <th>15</th>\n",
       "      <td>X5 M</td>\n",
       "      <td>267203358.010</td>\n",
       "    </tr>\n",
       "    <tr>\n",
       "      <th>14</th>\n",
       "      <td>Tribeca</td>\n",
       "      <td>175944422.940</td>\n",
       "    </tr>\n",
       "    <tr>\n",
       "      <th>6</th>\n",
       "      <td>Fiesta</td>\n",
       "      <td>157560280.800</td>\n",
       "    </tr>\n",
       "  </tbody>\n",
       "</table>\n",
       "</div>"
      ],
      "text/plain": [
       "         Barang    total harga\n",
       "12  Thunderbird 9680943490.040\n",
       "1      Aerostar 7238853752.650\n",
       "0        Accord 5157498568.250\n",
       "13        Titan 2393080787.500\n",
       "2       Allroad 1921879391.640\n",
       "9          Omni 1263127398.330\n",
       "10        Rodeo 1194859281.000\n",
       "11  SLR McLaren 1125082208.900\n",
       "7           G8a  615782086.480\n",
       "5       Corolla  555495248.890\n",
       "4       Caravan  477647238.900\n",
       "3         Aries  465399873.800\n",
       "8       Mark LT  387132686.050\n",
       "15         X5 M  267203358.010\n",
       "14      Tribeca  175944422.940\n",
       "6        Fiesta  157560280.800"
      ]
     },
     "execution_count": 31,
     "metadata": {},
     "output_type": "execute_result"
    }
   ],
   "source": [
    "#laba kotor maksimum\n",
    "print('Laba Kotor (descending)')\n",
    "sumdata = df.groupby('Barang', as_index=False)['total harga'].sum()\n",
    "sumdata.sort_values([\"total harga\"], ascending=[0])"
   ]
  },
  {
   "cell_type": "code",
   "execution_count": 32,
   "metadata": {},
   "outputs": [
    {
     "data": {
      "text/plain": [
       "Text(0.5, 1.0, 'Distribusi tahun lahir customer')"
      ]
     },
     "execution_count": 32,
     "metadata": {},
     "output_type": "execute_result"
    },
    {
     "data": {
      "image/png": "[encoded data removed]",
      "text/plain": [
       "<Figure size 432x288 with 1 Axes>"
      ]
     },
     "metadata": {
      "needs_background": "light"
     },
     "output_type": "display_data"
    }
   ],
   "source": [
    "df[\"tanggal lahir\"] = df[\"tanggal lahir\"].astype(\"datetime64\")\n",
    "tahun_lahir = df[\"tanggal lahir\"].dt.year\n",
    "count_tahunlahir = (df[\"tanggal lahir\"].dt.year.value_counts ())\n",
    "tahun_lahir.plot(kind='hist',rwidth =0.8)\n",
    "plt.title('Distribusi tahun lahir customer')"
   ]
  },
  {
   "cell_type": "code",
   "execution_count": 33,
   "metadata": {},
   "outputs": [],
   "source": [
    "#hitung umur pembeli per barang yang dibeli\n",
    "item = df[\"Barang\"]\n",
    "age = 2019-tahun_lahir"
   ]
  },
  {
   "cell_type": "code",
   "execution_count": 34,
   "metadata": {},
   "outputs": [],
   "source": [
    "#buat dataframe\n",
    "item_age = pd.DataFrame({'Barang':item, 'Umur':age})"
   ]
  },
  {
   "cell_type": "code",
   "execution_count": 35,
   "metadata": {},
   "outputs": [
    {
     "name": "stdout",
     "output_type": "stream",
     "text": [
      "Rata-rata umur untuk setiap barang\n"
     ]
    },
    {
     "data": {
      "text/html": [
       "<div>\n",
       "<style scoped>\n",
       "    .dataframe tbody tr th:only-of-type {\n",
       "        vertical-align: middle;\n",
       "    }\n",
       "\n",
       "    .dataframe tbody tr th {\n",
       "        vertical-align: top;\n",
       "    }\n",
       "\n",
       "    .dataframe thead th {\n",
       "        text-align: right;\n",
       "    }\n",
       "</style>\n",
       "<table border=\"1\" class=\"dataframe\">\n",
       "  <thead>\n",
       "    <tr style=\"text-align: right;\">\n",
       "      <th></th>\n",
       "      <th>Barang</th>\n",
       "      <th>Umur</th>\n",
       "    </tr>\n",
       "  </thead>\n",
       "  <tbody>\n",
       "    <tr>\n",
       "      <th>6</th>\n",
       "      <td>Fiesta</td>\n",
       "      <td>53.333</td>\n",
       "    </tr>\n",
       "    <tr>\n",
       "      <th>15</th>\n",
       "      <td>X5 M</td>\n",
       "      <td>50.375</td>\n",
       "    </tr>\n",
       "    <tr>\n",
       "      <th>9</th>\n",
       "      <td>Omni</td>\n",
       "      <td>47.394</td>\n",
       "    </tr>\n",
       "    <tr>\n",
       "      <th>10</th>\n",
       "      <td>Rodeo</td>\n",
       "      <td>46.294</td>\n",
       "    </tr>\n",
       "    <tr>\n",
       "      <th>5</th>\n",
       "      <td>Corolla</td>\n",
       "      <td>45.769</td>\n",
       "    </tr>\n",
       "    <tr>\n",
       "      <th>13</th>\n",
       "      <td>Titan</td>\n",
       "      <td>45.203</td>\n",
       "    </tr>\n",
       "    <tr>\n",
       "      <th>7</th>\n",
       "      <td>G8a</td>\n",
       "      <td>44.183</td>\n",
       "    </tr>\n",
       "    <tr>\n",
       "      <th>0</th>\n",
       "      <td>Accord</td>\n",
       "      <td>44.160</td>\n",
       "    </tr>\n",
       "    <tr>\n",
       "      <th>12</th>\n",
       "      <td>Thunderbird</td>\n",
       "      <td>43.955</td>\n",
       "    </tr>\n",
       "    <tr>\n",
       "      <th>1</th>\n",
       "      <td>Aerostar</td>\n",
       "      <td>42.701</td>\n",
       "    </tr>\n",
       "    <tr>\n",
       "      <th>11</th>\n",
       "      <td>SLR McLaren</td>\n",
       "      <td>42.159</td>\n",
       "    </tr>\n",
       "    <tr>\n",
       "      <th>2</th>\n",
       "      <td>Allroad</td>\n",
       "      <td>41.829</td>\n",
       "    </tr>\n",
       "    <tr>\n",
       "      <th>8</th>\n",
       "      <td>Mark LT</td>\n",
       "      <td>41.200</td>\n",
       "    </tr>\n",
       "    <tr>\n",
       "      <th>4</th>\n",
       "      <td>Caravan</td>\n",
       "      <td>40.882</td>\n",
       "    </tr>\n",
       "    <tr>\n",
       "      <th>3</th>\n",
       "      <td>Aries</td>\n",
       "      <td>38.526</td>\n",
       "    </tr>\n",
       "    <tr>\n",
       "      <th>14</th>\n",
       "      <td>Tribeca</td>\n",
       "      <td>38.478</td>\n",
       "    </tr>\n",
       "  </tbody>\n",
       "</table>\n",
       "</div>"
      ],
      "text/plain": [
       "         Barang   Umur\n",
       "6        Fiesta 53.333\n",
       "15         X5 M 50.375\n",
       "9          Omni 47.394\n",
       "10        Rodeo 46.294\n",
       "5       Corolla 45.769\n",
       "13        Titan 45.203\n",
       "7           G8a 44.183\n",
       "0        Accord 44.160\n",
       "12  Thunderbird 43.955\n",
       "1      Aerostar 42.701\n",
       "11  SLR McLaren 42.159\n",
       "2       Allroad 41.829\n",
       "8       Mark LT 41.200\n",
       "4       Caravan 40.882\n",
       "3         Aries 38.526\n",
       "14      Tribeca 38.478"
      ]
     },
     "execution_count": 35,
     "metadata": {},
     "output_type": "execute_result"
    }
   ],
   "source": [
    "print('Rata-rata umur untuk setiap barang')\n",
    "agedata = item_age.groupby('Barang', as_index=False)['Umur'].mean()\n",
    "agedata.sort_values([\"Umur\"], ascending=[0])"
   ]
  },
  {
   "cell_type": "code",
   "execution_count": 36,
   "metadata": {},
   "outputs": [
    {
     "data": {
      "text/plain": [
       "<matplotlib.axes._subplots.AxesSubplot at 0x7ff08f07a358>"
      ]
     },
     "execution_count": 36,
     "metadata": {},
     "output_type": "execute_result"
    },
    {
     "data": {
      "image/png": "[encoded data removed]",
      "text/plain": [
       "<Figure size 432x288 with 1 Axes>"
      ]
     },
     "metadata": {
      "needs_background": "light"
     },
     "output_type": "display_data"
    }
   ],
   "source": [
    "item_age[\"Umur\"].plot(kind='hist', bins=[0,12,16,25,35,45,60,70],rwidth = 0.8)"
   ]
  },
  {
   "cell_type": "code",
   "execution_count": 37,
   "metadata": {},
   "outputs": [],
   "source": [
    "#item_age.groupby('Barang', as_index=False)['Umur'].plot(kind='hist', bins=[0,12,16,25,35,45,60,70],rwidth = 0.8)\n",
    "#plt.legend()\n",
    "#fig_size = plt.rcParams[\"figure.figsize\"]\n",
    "#fig_size[0] = 9\n",
    "#fig_size[1] = 7"
   ]
  },
  {
   "cell_type": "code",
   "execution_count": 38,
   "metadata": {},
   "outputs": [
    {
     "data": {
      "text/plain": [
       "6          Fiesta\n",
       "15           X5 M\n",
       "9            Omni\n",
       "10          Rodeo\n",
       "5         Corolla\n",
       "13          Titan\n",
       "7             G8a\n",
       "0          Accord\n",
       "12    Thunderbird\n",
       "1        Aerostar\n",
       "11    SLR McLaren\n",
       "2         Allroad\n",
       "8         Mark LT\n",
       "4         Caravan\n",
       "3           Aries\n",
       "14        Tribeca\n",
       "Name: Barang, dtype: object"
      ]
     },
     "execution_count": 38,
     "metadata": {},
     "output_type": "execute_result"
    }
   ],
   "source": [
    "item_age.describe()\n",
    "dat = agedata.sort_values([\"Umur\"], ascending=[0])\n",
    "dat[\"Barang\"]"
   ]
  },
  {
   "cell_type": "code",
   "execution_count": 39,
   "metadata": {},
   "outputs": [
    {
     "data": {
      "image/png": "[encoded data removed]",
      "text/plain": [
       "<Figure size 432x288 with 1 Axes>"
      ]
     },
     "metadata": {
      "needs_background": "light"
     },
     "output_type": "display_data"
    },
    {
     "data": {
      "image/png": "[encoded data removed]",
      "text/plain": [
       "<Figure size 432x288 with 1 Axes>"
      ]
     },
     "metadata": {
      "needs_background": "light"
     },
     "output_type": "display_data"
    },
    {
     "data": {
      "image/png": "[encoded data removed]",
      "text/plain": [
       "<Figure size 432x288 with 1 Axes>"
      ]
     },
     "metadata": {
      "needs_background": "light"
     },
     "output_type": "display_data"
    },
    {
     "data": {
      "image/png": "[encoded data removed]",
      "text/plain": [
       "<Figure size 432x288 with 1 Axes>"
      ]
     },
     "metadata": {
      "needs_background": "light"
     },
     "output_type": "display_data"
    },
    {
     "data": {
      "image/png": "[encoded data removed]",
      "text/plain": [
       "<Figure size 432x288 with 1 Axes>"
      ]
     },
     "metadata": {
      "needs_background": "light"
     },
     "output_type": "display_data"
    },
    {
     "data": {
      "image/png": "[encoded data removed]",
      "text/plain": [
       "<Figure size 432x288 with 1 Axes>"
      ]
     },
     "metadata": {
      "needs_background": "light"
     },
     "output_type": "display_data"
    },
    {
     "data": {
      "image/png": "[encoded data removed]",
      "text/plain": [
       "<Figure size 432x288 with 1 Axes>"
      ]
     },
     "metadata": {
      "needs_background": "light"
     },
     "output_type": "display_data"
    },
    {
     "data": {
      "image/png": "[encoded data removed]",
      "text/plain": [
       "<Figure size 432x288 with 1 Axes>"
      ]
     },
     "metadata": {
      "needs_background": "light"
     },
     "output_type": "display_data"
    },
    {
     "data": {
      "image/png": "[encoded data removed]",
      "text/plain": [
       "<Figure size 432x288 with 1 Axes>"
      ]
     },
     "metadata": {
      "needs_background": "light"
     },
     "output_type": "display_data"
    },
    {
     "data": {
      "image/png": "[encoded data removed]",
      "text/plain": [
       "<Figure size 432x288 with 1 Axes>"
      ]
     },
     "metadata": {
      "needs_background": "light"
     },
     "output_type": "display_data"
    },
    {
     "data": {
      "image/png": "[encoded data removed]",
      "text/plain": [
       "<Figure size 432x288 with 1 Axes>"
      ]
     },
     "metadata": {
      "needs_background": "light"
     },
     "output_type": "display_data"
    },
    {
     "data": {
      "image/png": "[encoded data removed]",
      "text/plain": [
       "<Figure size 432x288 with 1 Axes>"
      ]
     },
     "metadata": {
      "needs_background": "light"
     },
     "output_type": "display_data"
    },
    {
     "data": {
      "image/png": "[encoded data removed]",
      "text/plain": [
       "<Figure size 432x288 with 1 Axes>"
      ]
     },
     "metadata": {
      "needs_background": "light"
     },
     "output_type": "display_data"
    },
    {
     "data": {
      "image/png": "[encoded data removed]",
      "text/plain": [
       "<Figure size 432x288 with 1 Axes>"
      ]
     },
     "metadata": {
      "needs_background": "light"
     },
     "output_type": "display_data"
    },
    {
     "data": {
      "image/png": "[encoded data removed]",
      "text/plain": [
       "<Figure size 432x288 with 1 Axes>"
      ]
     },
     "metadata": {
      "needs_background": "light"
     },
     "output_type": "display_data"
    },
    {
     "data": {
      "image/png": "[encoded data removed]",
      "text/plain": [
       "<Figure size 432x288 with 1 Axes>"
      ]
     },
     "metadata": {
      "needs_background": "light"
     },
     "output_type": "display_data"
    }
   ],
   "source": [
    "items = dat[\"Barang\"]\n",
    "for i in range(len(items)):\n",
    "    item_age[item_age[\"Barang\"]==items[i]].plot(kind='hist',bins=[0,12,16,25,35,45,60,70],rwidth=0.8)\n",
    "    plt.title( items[i]+' age distribution')"
   ]
  },
  {
   "cell_type": "code",
   "execution_count": 52,
   "metadata": {},
   "outputs": [
    {
     "data": {
      "image/png": "[encoded data removed]",
      "text/plain": [
       "<Figure size 1440x720 with 1 Axes>"
      ]
     },
     "metadata": {
      "needs_background": "light"
     },
     "output_type": "display_data"
    }
   ],
   "source": [
    "kota_count = df[\"kota\"].value_counts()\n",
    "kota_count.plot(kind='bar')\n",
    "plt.title('Distribusi kota pembeli')\n",
    "fig_size = plt.rcParams[\"figure.figsize\"] \n",
    "fig_size[0] = 20\n",
    "fig_size[1] = 10"
   ]
  },
  {
   "cell_type": "code",
   "execution_count": 57,
   "metadata": {},
   "outputs": [
    {
     "name": "stdout",
     "output_type": "stream",
     "text": [
      "distribusi asal kota pembeli\n"
     ]
    },
    {
     "data": {
      "text/plain": [
       "Wrehland      90\n",
       "Drolis        85\n",
       "Qaafver       83\n",
       "Norport       83\n",
       "Bricaster     78\n",
       "Eyalo         75\n",
       "Zam           68\n",
       "Esaburg       66\n",
       "Wruihrough    55\n",
       "Oniburn       54\n",
       "Flodstead     19\n",
       "vraimset      13\n",
       "Yhifield      13\n",
       "Avodale       13\n",
       "Oxaburn       11\n",
       "Qririe        11\n",
       "Foland        11\n",
       "Civine        11\n",
       "Zroni         10\n",
       "Trimont       10\n",
       "Frachester    10\n",
       "Sheles         9\n",
       "Uqeyron        9\n",
       "Aklidpolis     9\n",
       "Zedgend        8\n",
       "Driby          8\n",
       "Krever         8\n",
       "Chego          8\n",
       "Vring          7\n",
       "Faco           7\n",
       "Piaross        7\n",
       "Xuodiff        6\n",
       "Inetol         6\n",
       "Strale         5\n",
       "Inassey        4\n",
       "Inemond        4\n",
       "Badena         4\n",
       "Zhesa          3\n",
       "Zlehridge      3\n",
       "Nouta          3\n",
       "Okving         2\n",
       "Yroikbury      2\n",
       "Pila           2\n",
       "Gamery         2\n",
       "Jord           2\n",
       "Adenamouth     2\n",
       "Inphia         1\n",
       "Name: kota, dtype: int64"
      ]
     },
     "execution_count": 57,
     "metadata": {},
     "output_type": "execute_result"
    }
   ],
   "source": [
    "#distribusi kota\n",
    "print('distribusi asal kota pembeli')\n",
    "df[\"kota\"].value_counts()"
   ]
  },
  {
   "cell_type": "code",
   "execution_count": null,
   "metadata": {},
   "outputs": [],
   "source": []
  },
  {
   "cell_type": "code",
   "execution_count": null,
   "metadata": {},
   "outputs": [],
   "source": []
  },
  {
   "cell_type": "code",
   "execution_count": null,
   "metadata": {},
   "outputs": [],
   "source": []
  }
 ],
 "metadata": {
  "kernelspec": {
   "display_name": "Python 3",
   "language": "python",
   "name": "python3"
  },
  "language_info": {
   "codemirror_mode": {
    "name": "ipython",
    "version": 3
   },
   "file_extension": ".py",
   "mimetype": "text/x-python",
   "name": "python",
   "nbconvert_exporter": "python",
   "pygments_lexer": "ipython3",
   "version": "3.7.1"
  }
 },
 "nbformat": 4,
 "nbformat_minor": 2
}
